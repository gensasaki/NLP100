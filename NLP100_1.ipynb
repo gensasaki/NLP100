{
  "nbformat": 4,
  "nbformat_minor": 0,
  "metadata": {
    "colab": {
      "name": "NLP100_1.ipynb",
      "version": "0.3.2",
      "views": {},
      "default_view": {},
      "provenance": [],
      "collapsed_sections": []
    },
    "kernelspec": {
      "name": "python3",
      "display_name": "Python 3"
    }
  },
  "cells": [
    {
      "metadata": {
        "id": "gKBviq0P4IFp",
        "colab_type": "text"
      },
      "cell_type": "markdown",
      "source": [
        "# 言語処理100本ノック\n",
        "東北大学の乾・岡崎研究室が公開している[言語処理100本ノック 2015](http://www.cl.ecei.tohoku.ac.jp/nlp100/)をPythonでやってみた。"
      ]
    },
    {
      "metadata": {
        "id": "O0Uy7mQ54Qo1",
        "colab_type": "text"
      },
      "cell_type": "markdown",
      "source": [
        "## 第1章: 準備運動"
      ]
    },
    {
      "metadata": {
        "id": "ohg4xDfA4Df2",
        "colab_type": "code",
        "colab": {
          "autoexec": {
            "startup": false,
            "wait_interval": 0
          },
          "base_uri": "https://localhost:8080/",
          "height": 34
        },
        "outputId": "03e733e9-411a-4518-a23e-ec9de3960f8a",
        "executionInfo": {
          "status": "ok",
          "timestamp": 1532254629684,
          "user_tz": -540,
          "elapsed": 1078,
          "user": {
            "displayName": "Gen Sasaki",
            "photoUrl": "//lh5.googleusercontent.com/-EfKK9xZDZ90/AAAAAAAAAAI/AAAAAAAAEfk/-ebMc3g5Oz0/s50-c-k-no/photo.jpg",
            "userId": "104481322529539510276"
          }
        }
      },
      "cell_type": "code",
      "source": [
        "\"\"\"\n",
        "00. 文字列の逆順\n",
        "文字列\"stressed\"の文字を逆に（末尾から先頭に向かって）並べた文字列を得よ．\n",
        "\"\"\"\n",
        "\n",
        "str = \"stressed\"\n",
        "reversed_str = str[::-1] # str[start:stop:increment]\n",
        "print(reversed_str)"
      ],
      "execution_count": 1,
      "outputs": [
        {
          "output_type": "stream",
          "text": [
            "desserts\n"
          ],
          "name": "stdout"
        }
      ]
    },
    {
      "metadata": {
        "id": "OhY8Mj7b4UGv",
        "colab_type": "code",
        "colab": {
          "autoexec": {
            "startup": false,
            "wait_interval": 0
          },
          "base_uri": "https://localhost:8080/",
          "height": 34
        },
        "outputId": "2820d3e6-3bee-46b9-d7b3-72aa8dbcc51d",
        "executionInfo": {
          "status": "ok",
          "timestamp": 1532254630447,
          "user_tz": -540,
          "elapsed": 558,
          "user": {
            "displayName": "Gen Sasaki",
            "photoUrl": "//lh5.googleusercontent.com/-EfKK9xZDZ90/AAAAAAAAAAI/AAAAAAAAEfk/-ebMc3g5Oz0/s50-c-k-no/photo.jpg",
            "userId": "104481322529539510276"
          }
        }
      },
      "cell_type": "code",
      "source": [
        "\"\"\"\n",
        "01. 「パタトクカシーー」\n",
        "「パタトクカシーー」という文字列の1,3,5,7文字目を取り出して連結した文字列を得よ．\n",
        "\"\"\"\n",
        "\n",
        "str = \"パタトクカシーー\"\n",
        "odd_str = str[::2]\n",
        "print(odd_str)"
      ],
      "execution_count": 2,
      "outputs": [
        {
          "output_type": "stream",
          "text": [
            "パトカー\n"
          ],
          "name": "stdout"
        }
      ]
    },
    {
      "metadata": {
        "id": "eVsgFj1iME1j",
        "colab_type": "code",
        "colab": {
          "autoexec": {
            "startup": false,
            "wait_interval": 0
          },
          "base_uri": "https://localhost:8080/",
          "height": 34
        },
        "outputId": "83ad8086-96d8-470f-8813-b8bd584f0398",
        "executionInfo": {
          "status": "ok",
          "timestamp": 1532254633119,
          "user_tz": -540,
          "elapsed": 2544,
          "user": {
            "displayName": "Gen Sasaki",
            "photoUrl": "//lh5.googleusercontent.com/-EfKK9xZDZ90/AAAAAAAAAAI/AAAAAAAAEfk/-ebMc3g5Oz0/s50-c-k-no/photo.jpg",
            "userId": "104481322529539510276"
          }
        }
      },
      "cell_type": "code",
      "source": [
        "\"\"\"\n",
        "02. 「パトカー」＋「タクシー」＝「パタトクカシーー」\n",
        "「パトカー」＋「タクシー」の文字を先頭から交互に連結して文字列「パタトクカシーー」を得よ．\n",
        "\"\"\"\n",
        "\n",
        "word1 = \"パトカー\"\n",
        "word2 = \"タクシー\"\n",
        "result = \"\"\n",
        "\n",
        "for chr1, chr2 in zip(word1, word2):\n",
        "  result = result + chr1 + chr2\n",
        "  \n",
        "print(result)"
      ],
      "execution_count": 3,
      "outputs": [
        {
          "output_type": "stream",
          "text": [
            "パタトクカシーー\n"
          ],
          "name": "stdout"
        }
      ]
    },
    {
      "metadata": {
        "id": "HGpfNc784aCB",
        "colab_type": "code",
        "colab": {
          "autoexec": {
            "startup": false,
            "wait_interval": 0
          },
          "base_uri": "https://localhost:8080/",
          "height": 34
        },
        "outputId": "38bf3ad8-03f1-4b1c-e213-62b5cb4c658f",
        "executionInfo": {
          "status": "ok",
          "timestamp": 1532254634004,
          "user_tz": -540,
          "elapsed": 607,
          "user": {
            "displayName": "Gen Sasaki",
            "photoUrl": "//lh5.googleusercontent.com/-EfKK9xZDZ90/AAAAAAAAAAI/AAAAAAAAEfk/-ebMc3g5Oz0/s50-c-k-no/photo.jpg",
            "userId": "104481322529539510276"
          }
        }
      },
      "cell_type": "code",
      "source": [
        "\"\"\"\n",
        "03. 円周率\n",
        "\"Now I need a drink, alcoholic of course, after the heavy lectures involving quantum mechanics.\"\n",
        "という文を単語に分解し，各単語の（アルファベットの）文字数を先頭から出現順に並べたリストを作成せよ．\n",
        "\"\"\"\n",
        "\n",
        "import re\n",
        "\n",
        "sentence = \"Now I need a drink, alcoholic of course, after the heavy lectures involving quantum mechanics.\"\n",
        "regex = r\"[\\s,.]+\"\n",
        "words = re.split(regex, sentence)\n",
        "word_length = [len(word) for word in words if word != \"\"]\n",
        "\n",
        "print(word_length)"
      ],
      "execution_count": 4,
      "outputs": [
        {
          "output_type": "stream",
          "text": [
            "[3, 1, 4, 1, 5, 9, 2, 6, 5, 3, 5, 8, 9, 7, 9]\n"
          ],
          "name": "stdout"
        }
      ]
    },
    {
      "metadata": {
        "id": "OmZybW6SCVyl",
        "colab_type": "code",
        "colab": {
          "autoexec": {
            "startup": false,
            "wait_interval": 0
          },
          "base_uri": "https://localhost:8080/",
          "height": 54
        },
        "outputId": "cc38318c-9bc7-46da-a86e-b9cf5ecfd0b5",
        "executionInfo": {
          "status": "ok",
          "timestamp": 1532254635641,
          "user_tz": -540,
          "elapsed": 1371,
          "user": {
            "displayName": "Gen Sasaki",
            "photoUrl": "//lh5.googleusercontent.com/-EfKK9xZDZ90/AAAAAAAAAAI/AAAAAAAAEfk/-ebMc3g5Oz0/s50-c-k-no/photo.jpg",
            "userId": "104481322529539510276"
          }
        }
      },
      "cell_type": "code",
      "source": [
        "\"\"\"\n",
        "04. 元素記号\n",
        "\"Hi He Lied Because Boron Could Not Oxidize Fluorine. New Nations Might Also Sign Peace Security Clause. Arthur King Can.\"\n",
        "という文を単語に分解し，1, 5, 6, 7, 8, 9, 15, 16, 19番目の単語は先頭の1文字，それ以外の単語は先頭に2文字を取り出し，\n",
        "取り出した文字列から単語の位置（先頭から何番目の単語か）への連想配列（辞書型もしくはマップ型）を作成せよ．\n",
        "\"\"\"\n",
        "\n",
        "import re\n",
        "\n",
        "sentence = \"Hi He Lied Because Boron Could Not Oxidize Fluorine. New Nations Might Also Sign Peace Security Clause. Arthur King Can.\"\n",
        "regex = r\"[\\s,.]+\"\n",
        "words = re.split(regex, sentence)\n",
        "idxs = (1, 3, 5, 6, 7, 8, 9, 15, 16, 19)\n",
        "element_dict = {word[:1] if idx in idxs else word[:2] : idx for idx, word in enumerate(words, 1) if word != \"\"}\n",
        "\n",
        "print(element_dict)"
      ],
      "execution_count": 5,
      "outputs": [
        {
          "output_type": "stream",
          "text": [
            "{'H': 1, 'He': 2, 'L': 3, 'Be': 4, 'B': 5, 'C': 6, 'N': 7, 'O': 8, 'F': 9, 'Ne': 10, 'Na': 11, 'Mi': 12, 'Al': 13, 'Si': 14, 'P': 15, 'S': 16, 'Cl': 17, 'Ar': 18, 'K': 19, 'Ca': 20}\n"
          ],
          "name": "stdout"
        }
      ]
    },
    {
      "metadata": {
        "id": "2fI0zK3YNI1R",
        "colab_type": "code",
        "colab": {
          "autoexec": {
            "startup": false,
            "wait_interval": 0
          },
          "base_uri": "https://localhost:8080/",
          "height": 731
        },
        "outputId": "e92aa8b4-a72f-4b29-e26b-072588d9a50c",
        "executionInfo": {
          "status": "ok",
          "timestamp": 1532254636613,
          "user_tz": -540,
          "elapsed": 545,
          "user": {
            "displayName": "Gen Sasaki",
            "photoUrl": "//lh5.googleusercontent.com/-EfKK9xZDZ90/AAAAAAAAAAI/AAAAAAAAEfk/-ebMc3g5Oz0/s50-c-k-no/photo.jpg",
            "userId": "104481322529539510276"
          }
        }
      },
      "cell_type": "code",
      "source": [
        "\"\"\"\n",
        "05. n-gram\n",
        "与えられたシーケンス（文字列やリストなど）からn-gramを作る関数を作成せよ．\n",
        "この関数を用い，\"I am an NLPer\"という文から単語bi-gram，文字bi-gramを得よ．\n",
        "\"\"\"\n",
        "\n",
        "import re\n",
        "\n",
        "def generate_n_gram(seq, n):\n",
        "  # 単語\n",
        "  regex = r\"[\\s,.]+\"\n",
        "  separated_words = re.split(regex, seq)\n",
        "  words = [\"\".join(separated_words[i:i+n]) for i in range(len(separated_words) - (n-1))]\n",
        "  # 文字列\n",
        "  characters = [seq[i:i+n] for i in range(len(seq) - (n-1))]\n",
        "  # 結果\n",
        "  result = {\n",
        "              \"words\": words,\n",
        "              \"characters\": characters\n",
        "           }\n",
        "  return result\n",
        "\n",
        "sentence = \"I am an NLPer who was born in Tokyo\"\n",
        "\n",
        "generate_n_gram(sentence, 2)"
      ],
      "execution_count": 6,
      "outputs": [
        {
          "output_type": "execute_result",
          "data": {
            "text/plain": [
              "{'characters': ['I ',\n",
              "  ' a',\n",
              "  'am',\n",
              "  'm ',\n",
              "  ' a',\n",
              "  'an',\n",
              "  'n ',\n",
              "  ' N',\n",
              "  'NL',\n",
              "  'LP',\n",
              "  'Pe',\n",
              "  'er',\n",
              "  'r ',\n",
              "  ' w',\n",
              "  'wh',\n",
              "  'ho',\n",
              "  'o ',\n",
              "  ' w',\n",
              "  'wa',\n",
              "  'as',\n",
              "  's ',\n",
              "  ' b',\n",
              "  'bo',\n",
              "  'or',\n",
              "  'rn',\n",
              "  'n ',\n",
              "  ' i',\n",
              "  'in',\n",
              "  'n ',\n",
              "  ' T',\n",
              "  'To',\n",
              "  'ok',\n",
              "  'ky',\n",
              "  'yo'],\n",
              " 'words': ['Iam',\n",
              "  'aman',\n",
              "  'anNLPer',\n",
              "  'NLPerwho',\n",
              "  'whowas',\n",
              "  'wasborn',\n",
              "  'bornin',\n",
              "  'inTokyo']}"
            ]
          },
          "metadata": {
            "tags": []
          },
          "execution_count": 6
        }
      ]
    },
    {
      "metadata": {
        "id": "7LrTCRapcIQo",
        "colab_type": "code",
        "colab": {
          "autoexec": {
            "startup": false,
            "wait_interval": 0
          },
          "base_uri": "https://localhost:8080/",
          "height": 221
        },
        "outputId": "d5f1b054-1fb5-4fa9-ef9a-dce403abe624",
        "executionInfo": {
          "status": "ok",
          "timestamp": 1532254638012,
          "user_tz": -540,
          "elapsed": 983,
          "user": {
            "displayName": "Gen Sasaki",
            "photoUrl": "//lh5.googleusercontent.com/-EfKK9xZDZ90/AAAAAAAAAAI/AAAAAAAAEfk/-ebMc3g5Oz0/s50-c-k-no/photo.jpg",
            "userId": "104481322529539510276"
          }
        }
      },
      "cell_type": "code",
      "source": [
        "\"\"\"\n",
        "06. 集合\n",
        "\"paraparaparadise\"と\"paragraph\"に含まれる文字bi-gramの集合を，それぞれ, XとYとして求め，\n",
        "XとYの和集合，積集合，差集合を求めよ．さらに，'se'というbi-gramがXおよびYに含まれるかどうかを調べよ．\n",
        "\"\"\"\n",
        "\n",
        "x = \"paraparaparadise\"\n",
        "y = \"paragraph\"\n",
        "\n",
        "def generate_n_gram(seq, n=2):\n",
        "  result = [seq[i:i+n] for i in range(len(seq) - (n-1))]\n",
        "  return result\n",
        "\n",
        "X = set(generate_n_gram(x))\n",
        "Y = set(generate_n_gram(y))\n",
        "\n",
        "union = X | Y # X.union(Y)\n",
        "diff_X_Y = X - Y # X.difference(Y)\n",
        "diff_Y_X = Y - X # Y.difference(X)\n",
        "intersection = X & Y # X.intersection(Y)\n",
        "is_in_X = \"se\" in X\n",
        "is_in_Y = \"se\" in Y\n",
        "\n",
        "print(\"union\", union, \"diff_X_Y\", diff_X_Y, \"diff_Y_X\", diff_Y_X,\n",
        "      \"intersection\", intersection, \"in X\", is_in_X, \"in Y\", is_in_Y, sep=\"\\n\")"
      ],
      "execution_count": 7,
      "outputs": [
        {
          "output_type": "stream",
          "text": [
            "union\n",
            "{'ra', 'ag', 'gr', 'ad', 'ph', 'ar', 'is', 'di', 'pa', 'se', 'ap'}\n",
            "diff_X_Y\n",
            "{'is', 'di', 'se', 'ad'}\n",
            "diff_Y_X\n",
            "{'ag', 'ph', 'gr'}\n",
            "intersection\n",
            "{'ra', 'ar', 'pa', 'ap'}\n",
            "in X\n",
            "True\n",
            "in Y\n",
            "False\n"
          ],
          "name": "stdout"
        }
      ]
    },
    {
      "metadata": {
        "id": "SjwtYffOJdjs",
        "colab_type": "code",
        "colab": {
          "autoexec": {
            "startup": false,
            "wait_interval": 0
          },
          "base_uri": "https://localhost:8080/",
          "height": 34
        },
        "outputId": "c7c2a985-a6da-4482-d181-fe06a9284e9b",
        "executionInfo": {
          "status": "ok",
          "timestamp": 1532254638863,
          "user_tz": -540,
          "elapsed": 629,
          "user": {
            "displayName": "Gen Sasaki",
            "photoUrl": "//lh5.googleusercontent.com/-EfKK9xZDZ90/AAAAAAAAAAI/AAAAAAAAEfk/-ebMc3g5Oz0/s50-c-k-no/photo.jpg",
            "userId": "104481322529539510276"
          }
        }
      },
      "cell_type": "code",
      "source": [
        "\"\"\"\n",
        "07. テンプレートによる文生成\n",
        "引数x, y, zを受け取り「x時のyはz」という文字列を返す関数を実装せよ\n",
        "さらに，x=12, y=\"気温\", z=22.4として，実行結果を確認せよ．\n",
        "\"\"\"\n",
        "\n",
        "def generate_template(x, y, z):\n",
        "  return \"{}時の{}は{}\".format(x, y, z)\n",
        "\n",
        "x = 12\n",
        "y = \"気温\"\n",
        "z = 22.4\n",
        "\n",
        "generate_template(x, y, z)"
      ],
      "execution_count": 8,
      "outputs": [
        {
          "output_type": "execute_result",
          "data": {
            "text/plain": [
              "'12時の気温は22.4'"
            ]
          },
          "metadata": {
            "tags": []
          },
          "execution_count": 8
        }
      ]
    },
    {
      "metadata": {
        "id": "TuU9dpjvOxaT",
        "colab_type": "code",
        "colab": {
          "autoexec": {
            "startup": false,
            "wait_interval": 0
          },
          "base_uri": "https://localhost:8080/",
          "height": 34
        },
        "outputId": "158a0567-9d4e-4b69-857b-d555c6038a94",
        "executionInfo": {
          "status": "ok",
          "timestamp": 1532254639759,
          "user_tz": -540,
          "elapsed": 668,
          "user": {
            "displayName": "Gen Sasaki",
            "photoUrl": "//lh5.googleusercontent.com/-EfKK9xZDZ90/AAAAAAAAAAI/AAAAAAAAEfk/-ebMc3g5Oz0/s50-c-k-no/photo.jpg",
            "userId": "104481322529539510276"
          }
        }
      },
      "cell_type": "code",
      "source": [
        "\"\"\"\n",
        "08. 暗号文\n",
        "与えられた文字列の各文字を，以下の仕様で変換する関数cipherを実装せよ．\n",
        "\n",
        "英小文字ならば(219 - 文字コード)の文字に置換\n",
        "その他の文字はそのまま出力\n",
        "この関数を用い，英語のメッセージを暗号化・復号化せよ．\n",
        "\"\"\"\n",
        "\n",
        "import re\n",
        "\n",
        "def cipher(source):\n",
        "  # ord()で文字から文字コードを取得、chr()で文字コードから文字を取得\n",
        "  result = re.sub(r\"[a-z]\", lambda m: chr(219 - ord(m.group(0))), source)\n",
        "  return result\n",
        "\n",
        "source = \"Hi! How are you?\"\n",
        "\n",
        "cipher(source)"
      ],
      "execution_count": 9,
      "outputs": [
        {
          "output_type": "execute_result",
          "data": {
            "text/plain": [
              "'Hr! Hld ziv blf?'"
            ]
          },
          "metadata": {
            "tags": []
          },
          "execution_count": 9
        }
      ]
    },
    {
      "metadata": {
        "id": "vzyQephcaR0J",
        "colab_type": "code",
        "colab": {
          "autoexec": {
            "startup": false,
            "wait_interval": 0
          },
          "base_uri": "https://localhost:8080/",
          "height": 54
        },
        "outputId": "2874b025-e442-4d80-a4ec-bf4e336d0ee7",
        "executionInfo": {
          "status": "ok",
          "timestamp": 1532254640648,
          "user_tz": -540,
          "elapsed": 551,
          "user": {
            "displayName": "Gen Sasaki",
            "photoUrl": "//lh5.googleusercontent.com/-EfKK9xZDZ90/AAAAAAAAAAI/AAAAAAAAEfk/-ebMc3g5Oz0/s50-c-k-no/photo.jpg",
            "userId": "104481322529539510276"
          }
        }
      },
      "cell_type": "code",
      "source": [
        "\"\"\"\n",
        "09. Typoglycemia\n",
        "スペースで区切られた単語列に対して，各単語の先頭と末尾の文字は残し，\n",
        "それ以外の文字の順序をランダムに並び替えるプログラムを作成せよ．\n",
        "ただし，長さが４以下の単語は並び替えないこととする．\n",
        "適当な英語の文（例えば\"I couldn't believe that I could actually understand what I was reading : the phenomenal power of the human mind .\"）を与え，\n",
        "その実行結果を確認せよ．\n",
        "\"\"\"\n",
        "\n",
        "import re\n",
        "import random\n",
        "\n",
        "def shuffle_center_characters(source):\n",
        "  new_word_list = []\n",
        "  regex = r\"[\\s]+\"\n",
        "  words = re.split(regex, source)\n",
        "\n",
        "  for word in words:\n",
        "    if len(word) > 4:\n",
        "      first_c = word[0]\n",
        "      center_c = word[1:-1]\n",
        "      last_c = word[-1]\n",
        "      shuffled_center_c = \"\".join(random.sample(list(center_c), len(center_c)))\n",
        "      new_word = first_c + shuffled_center_c + last_c\n",
        "      new_word_list.append(new_word)\n",
        "    else:\n",
        "      new_word_list.append(word)\n",
        "      \n",
        "  return \" \".join(new_word_list)\n",
        "  \n",
        "source = \"I couldn't believe that I could actually understand what I was reading : the phenomenal power of the human mind .\"\n",
        "\n",
        "shuffle_center_characters(source)"
      ],
      "execution_count": 10,
      "outputs": [
        {
          "output_type": "execute_result",
          "data": {
            "text/plain": [
              "\"I coldun't beelvie that I could aualltcy uaetnrnsdd what I was rnedaig : the pehonmneal peowr of the huamn mind .\""
            ]
          },
          "metadata": {
            "tags": []
          },
          "execution_count": 10
        }
      ]
    }
  ]
}